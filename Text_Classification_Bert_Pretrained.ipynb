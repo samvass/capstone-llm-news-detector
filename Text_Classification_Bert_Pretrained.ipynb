{
  "nbformat": 4,
  "nbformat_minor": 0,
  "metadata": {
    "colab": {
      "provenance": [],
      "include_colab_link": true
    },
    "kernelspec": {
      "name": "python3",
      "display_name": "Python 3"
    },
    "language_info": {
      "name": "python"
    }
  },
  "cells": [
    {
      "cell_type": "markdown",
      "metadata": {
        "id": "view-in-github",
        "colab_type": "text"
      },
      "source": [
        "<a href=\"https://colab.research.google.com/github/samvass/capstone-model/blob/bert-text/Text_Classification_Bert_Pretrained.ipynb\" target=\"_parent\"><img src=\"https://colab.research.google.com/assets/colab-badge.svg\" alt=\"Open In Colab\"/></a>"
      ]
    },
    {
      "cell_type": "markdown",
      "source": [
        "## 1 - Load Data"
      ],
      "metadata": {
        "id": "iTaX_0QtdldO"
      }
    },
    {
      "cell_type": "code",
      "source": [
        "!pip install accelerate\n",
        "!pip install evaluate\n",
        "!pip install transformers"
      ],
      "metadata": {
        "id": "04y2AMYwhEkg"
      },
      "execution_count": null,
      "outputs": []
    },
    {
      "cell_type": "code",
      "execution_count": null,
      "metadata": {
        "id": "kdcW1BwqRgaZ"
      },
      "outputs": [],
      "source": [
        "from datasets import load_dataset"
      ]
    },
    {
      "cell_type": "code",
      "source": [
        "RawData = load_dataset(\"csv\", data_files = {\"train\": \"Dataset Train.csv\", \"test\": \"Dataset Test.csv\"})"
      ],
      "metadata": {
        "id": "JBK3gXX0dxm9"
      },
      "execution_count": null,
      "outputs": []
    },
    {
      "cell_type": "markdown",
      "source": [
        "## 2 - Tokenize Data"
      ],
      "metadata": {
        "id": "UEiN083YgAhc"
      }
    },
    {
      "cell_type": "code",
      "source": [
        "from transformers import AutoTokenizer"
      ],
      "metadata": {
        "id": "Bp1qVM0kiz0j"
      },
      "execution_count": null,
      "outputs": []
    },
    {
      "cell_type": "code",
      "source": [
        "Tokenizer = AutoTokenizer.from_pretrained(\"distilbert-base-uncased\")"
      ],
      "metadata": {
        "id": "GgsqQ0aTgMIn"
      },
      "execution_count": null,
      "outputs": []
    },
    {
      "cell_type": "code",
      "source": [
        "TokenizeType = \"OnlyText\""
      ],
      "metadata": {
        "id": "AUcEJgSHhHXb"
      },
      "execution_count": null,
      "outputs": []
    },
    {
      "cell_type": "code",
      "source": [
        "def TokenizeData (Data) :\n",
        "\n",
        "  match TokenizeType:\n",
        "    case \"OnlyTitle\":\n",
        "      return Tokenizer(Data[\"title\"], truncation=True)\n",
        "    case \"OnlyText\":\n",
        "      return Tokenizer(Data[\"text\"], truncation=True)\n",
        "    case \"JoinThenTokenize\":\n",
        "      pass\n",
        "    case \"TokenizeThenJoin\":\n",
        "      pass"
      ],
      "metadata": {
        "id": "C24wYFy1gOHm"
      },
      "execution_count": null,
      "outputs": []
    },
    {
      "cell_type": "code",
      "source": [
        "TokenizedData = RawData.map(TokenizeData, batched = True)"
      ],
      "metadata": {
        "id": "ft1z5miaiH5Z"
      },
      "execution_count": null,
      "outputs": []
    },
    {
      "cell_type": "markdown",
      "source": [
        "## Train and Test"
      ],
      "metadata": {
        "id": "_M8CVyXmnd80"
      }
    },
    {
      "cell_type": "code",
      "source": [
        "import evaluate\n",
        "import numpy as np\n",
        "\n",
        "from transformers import DataCollatorWithPadding\n",
        "from transformers import AutoModelForSequenceClassification, TrainingArguments, Trainer"
      ],
      "metadata": {
        "id": "5yMmCRydngOk"
      },
      "execution_count": null,
      "outputs": []
    },
    {
      "cell_type": "code",
      "source": [
        "DataCollator = DataCollatorWithPadding(tokenizer = Tokenizer)"
      ],
      "metadata": {
        "id": "ogds1gKQnlq5"
      },
      "execution_count": null,
      "outputs": []
    },
    {
      "cell_type": "code",
      "source": [
        "Accuracy = evaluate.load(\"accuracy\")"
      ],
      "metadata": {
        "id": "KwDULkY9pnf5"
      },
      "execution_count": null,
      "outputs": []
    },
    {
      "cell_type": "code",
      "source": [
        "def ComputeMetrics (eval):\n",
        "\n",
        "    Predictions, Labels = eval\n",
        "    Predictions = np.argmax(Predictions, axis = 1)\n",
        "    return Accuracy.compute(predictions = Predictions, references = Labels)"
      ],
      "metadata": {
        "id": "PKUYqMO5np7B"
      },
      "execution_count": null,
      "outputs": []
    },
    {
      "cell_type": "code",
      "source": [
        "IDToLabel = {0: \"Human\", 1: \"AI\"}\n",
        "LabelToId = {\"Human\": 0, \"AI\": 1}"
      ],
      "metadata": {
        "id": "N3FN7hxNp9xD"
      },
      "execution_count": null,
      "outputs": []
    },
    {
      "cell_type": "code",
      "source": [
        "Model = AutoModelForSequenceClassification.from_pretrained (\n",
        "    \"distilbert-base-uncased\", num_labels = 2, id2label = IDToLabel, label2id = LabelToId\n",
        ")"
      ],
      "metadata": {
        "id": "yZ8OuXvgnw-B"
      },
      "execution_count": null,
      "outputs": []
    },
    {
      "cell_type": "code",
      "source": [
        "Args = TrainingArguments (\n",
        "\n",
        "    output_dir = \"0\",\n",
        "    learning_rate = 2e-5,\n",
        "    per_device_train_batch_size = 16,\n",
        "    per_device_eval_batch_size = 16,\n",
        "    num_train_epochs = 2,\n",
        "    weight_decay = 0.01,\n",
        "    evaluation_strategy = \"epoch\",\n",
        "    save_strategy = \"epoch\",\n",
        "    load_best_model_at_end = True,\n",
        "    push_to_hub = False,\n",
        "\n",
        ")\n",
        "\n",
        "T = Trainer (\n",
        "\n",
        "    model = Model,\n",
        "    args = Args,\n",
        "    train_dataset = TokenizedData[\"train\"],\n",
        "    eval_dataset = TokenizedData[\"test\"],\n",
        "    tokenizer = Tokenizer,\n",
        "    data_collator = DataCollator,\n",
        "    compute_metrics = ComputeMetrics,\n",
        "\n",
        ")\n",
        "\n",
        "T.train()"
      ],
      "metadata": {
        "colab": {
          "base_uri": "https://localhost:8080/",
          "height": 174
        },
        "id": "wyHTRNzRoNld",
        "outputId": "8377ed0b-200f-4d6f-ef02-c03b4d73d162"
      },
      "execution_count": null,
      "outputs": [
        {
          "output_type": "display_data",
          "data": {
            "text/plain": [
              "<IPython.core.display.HTML object>"
            ],
            "text/html": [
              "\n",
              "    <div>\n",
              "      \n",
              "      <progress value='44' max='44' style='width:300px; height:20px; vertical-align: middle;'></progress>\n",
              "      [44/44 45:15, Epoch 2/2]\n",
              "    </div>\n",
              "    <table border=\"1\" class=\"dataframe\">\n",
              "  <thead>\n",
              " <tr style=\"text-align: left;\">\n",
              "      <th>Epoch</th>\n",
              "      <th>Training Loss</th>\n",
              "      <th>Validation Loss</th>\n",
              "      <th>Accuracy</th>\n",
              "    </tr>\n",
              "  </thead>\n",
              "  <tbody>\n",
              "    <tr>\n",
              "      <td>1</td>\n",
              "      <td>No log</td>\n",
              "      <td>0.494491</td>\n",
              "      <td>0.702128</td>\n",
              "    </tr>\n",
              "    <tr>\n",
              "      <td>2</td>\n",
              "      <td>No log</td>\n",
              "      <td>0.354689</td>\n",
              "      <td>0.971631</td>\n",
              "    </tr>\n",
              "  </tbody>\n",
              "</table><p>"
            ]
          },
          "metadata": {}
        },
        {
          "output_type": "execute_result",
          "data": {
            "text/plain": [
              "TrainOutput(global_step=44, training_loss=0.5063397667624734, metrics={'train_runtime': 2775.822, 'train_samples_per_second': 0.252, 'train_steps_per_second': 0.016, 'total_flos': 92727179059200.0, 'train_loss': 0.5063397667624734, 'epoch': 2.0})"
            ]
          },
          "metadata": {},
          "execution_count": 39
        }
      ]
    }
  ]
}