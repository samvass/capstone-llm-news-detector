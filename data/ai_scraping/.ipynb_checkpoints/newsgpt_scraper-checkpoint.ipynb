{
 "cells": [
  {
   "cell_type": "code",
   "execution_count": 14,
   "id": "117d86b0-b86c-4c5e-acbb-a90a0cca7665",
   "metadata": {},
   "outputs": [],
   "source": [
    "import requests\n",
    "from bs4 import BeautifulSoup as bs\n",
    "import pandas as pd\n",
    "import os\n",
    "import re\n",
    "import unicodedata"
   ]
  },
  {
   "cell_type": "code",
   "execution_count": 34,
   "id": "ef8bc0a6-8110-4de0-b1fa-1b710b145cab",
   "metadata": {},
   "outputs": [],
   "source": [
    "config = {\n",
    "    \"newsgpt_articles_url\": \"https://newsgpt.ai/ai-news/page/\",\n",
    "    \"saved_images_path\": \"./newsgpt_images\",\n",
    "    \"csv_file_path\": \"./newsgpt_dataset.csv\"\n",
    "}"
   ]
  },
  {
   "cell_type": "code",
   "execution_count": 28,
   "id": "8cc128bf-3169-41a4-9d28-ed940f5b2550",
   "metadata": {},
   "outputs": [],
   "source": [
    "def sanitize_filename(filename: str, replace=' ', max_length=255) -> str:\n",
    "    # Normalize Unicode characters to their closest ASCII representation\n",
    "    filename = unicodedata.normalize('NFKD', filename).encode('ascii', 'ignore').decode('ascii')\n",
    "    \n",
    "    # Replace unwanted characters\n",
    "    filename = re.sub(r'[\\/:*?\"<>|\\r\\n\\t]+', replace, filename)\n",
    "    \n",
    "    # Replace spaces with a chosen character (e.g., underscore)\n",
    "    filename = re.sub(r'\\s+', replace, filename).strip(replace)\n",
    "    \n",
    "    # Ensure the filename is not too long\n",
    "    filename = filename[:max_length].rstrip(replace)\n",
    "    \n",
    "    filename = filename.lower()\n",
    "    \n",
    "    return filename"
   ]
  },
  {
   "cell_type": "code",
   "execution_count": 36,
   "id": "c9a85b19-6f78-411d-806c-9f425cfabf8f",
   "metadata": {},
   "outputs": [],
   "source": [
    "def get_article_urls(num_pages: int = 1) -> list[str]:\n",
    "    article_urls = []\n",
    "    base_url = config[\"newsgpt_articles_url\"]\n",
    "    for page in range(1,num_pages+1):\n",
    "        page_url = base_url + str(page)\n",
    "\n",
    "        res = requests.get(page_url)\n",
    "        soup = bs(res.content, features='html.parser')\n",
    "\n",
    "        # get each article tag element\n",
    "        links = soup.find_all('a', class_=\"awb-custom-text-color awb-custom-text-hover-color\")\n",
    "\n",
    "        for link in links:\n",
    "            article_urls.append(link['href'])\n",
    "\n",
    "    return article_urls"
   ]
  },
  {
   "cell_type": "code",
   "execution_count": 46,
   "id": "6a8887a2-b78d-4d19-ae65-712a16661e62",
   "metadata": {},
   "outputs": [],
   "source": [
    "def parse_article(url: str) -> tuple:\n",
    "    res = requests.get(url)\n",
    "    soup = bs(res.content, features='html.parser')\n",
    "\n",
    "    title = soup.find('h1', class_=\"fusion-title-heading title-heading-left\").text\n",
    "\n",
    "    text_section = soup.find('div', class_=\"fusion-content-tb fusion-content-tb-1\")\n",
    "    text = text_section.find_all('p') if text_section else []\n",
    "    text = [p_tag.text for p_tag in text]\n",
    "    text = ''.join(text)\n",
    "\n",
    "    img_url = soup.find('img', alt=title)['src']\n",
    "    try:\n",
    "        img_res = requests.get(img_url)\n",
    "    except:\n",
    "        print(f\"error retireving img for article: {title}, url: {img_url}, status_code: {img_res.status_code}\")\n",
    "        return None\n",
    "    \n",
    "    img_filename = f\"{sanitize_filename(title)}.jpg\"\n",
    "\n",
    "    os.makedirs(config[\"saved_images_path\"], exist_ok=True)\n",
    "\n",
    "    file_path = os.path.join(config[\"saved_images_path\"], img_filename)\n",
    "\n",
    "    if not os.path.exists(file_path):\n",
    "        with open(file_path, \"wb\") as img_file:\n",
    "            img_file.write(img_res.content)\n",
    "    else:\n",
    "        print(f\"File {img_filename} already exists.\")\n",
    "\n",
    "    return title, text, img_filename"
   ]
  },
  {
   "cell_type": "code",
   "execution_count": null,
   "id": "701e0dce-8625-44d7-9c88-44b52be4a893",
   "metadata": {},
   "outputs": [
    {
     "name": "stdout",
     "output_type": "stream",
     "text": [
      "File dominos pizza announces new meal deal, loyalty program, and expansion plans.jpg already exists.\n",
      "Following a sluggish start to the year, Domino’s Pizza has announced plans to launch a new meal deal and a customer loyalty program. The company’s chief executive, Andrew Rennie, stated that the slow start was partly due to a strategic decision to limit marketing efforts during January, traditionally a quieter period for the business. The company is now set to ramp up its promotional activities with the introduction of a £4 lunch offer. This deal, expected to be launched in the coming weeks, will include smaller items from the menu such as pizzas, wraps, and cookies. In addition to the new meal deal, the pizza chain is also planning to roll out a loyalty program for regular customers later this year. While details of the program remain under wraps due to market sensitivity, Rennie expressed confidence in the initiative, stating that the data-driven approach to its development indicates it will be a strong offering. Despite the slow start to the year, Domino’s reported a slight increase in its market share last year, rising from 7.1% to 7.2%. The company opened 61 new pizza shops and has plans to open an additional 70 this year. By 2028, the business aims to operate 1,600 sites in the UK and Ireland, and 2,000 by 2033. In a separate announcement, Domino’s revealed the acquisition of Shorecal Limited, the largest Domino’s franchise in Ireland. The €72 million (£62 million) deal will see it take over 34 of the 99 Domino’s sites currently operating in the Republic and Northern Ireland.\n",
      "File motorola moto g 5g and power 5g budget-friendly phones with enhanced features.jpg already exists.\n",
      "Motorola has announced a price reduction for its Moto G phone line, with the new Moto G 5G starting at $200. The updated model boasts a higher-refresh-rate display than its predecessor. Alongside this, the Moto G Power 5G has also been updated, maintaining its $300 price tag but featuring improved specifications.The Moto G 5G now comes with a 6.6-inch display with a 120Hz refresh rate, supporting Dolby Atmos audio. It is powered by Qualcomm’s Snapdragon 4 Gen 1 chip and features a 50-megapixel main camera and an 8-megapixel front-facing camera. Despite the main lens being paired with a 2-megapixel macro camera, its utility for photographers remains to be seen. The phone also offers 128GB of storage, a 5,000-mAh battery, and 18-watt fast charging.The Moto G Power 5G, on the other hand, boasts a larger 6.7-inch display with similar features to the Moto G 5G, including a 120Hz refresh rate, 128GB of storage, Dolby Atmos audio, and a 5,000-mAh battery. It differentiates itself with a 50-megapixel main camera paired with an 8-megapixel ultrawide lens, a 16-megapixel front-facing camera, and a Mediatek Dimensity 7020 processor. This model also introduces 15-watt wireless charging, a rare feature for phones in this price range.Both phones offer a “RAM boost” feature, allowing users to expand the onboard memory by utilizing the built-in storage. Motorola claims this can increase the Moto G 5G’s memory from 4GB to a similar experience of 8GB, and the Moto G Power’s memory from 8GB to 16GB.However, both phones continue Motorola’s policy of providing only one year of software updates and three years of security updates. This is an area where improvement would be welcomed, particularly as higher-end phones now offer up to seven years of software updates. On a positive note, both phones now support NFC for contactless payments.The Moto G 5G will be available from T-Mobile and Metro by T-Mobile on March 21, with an unlocked version available on May 2. The Moto G Power 5G will be released on Cricket on March 22, with additional carriers and an unlocked model available from March 29.\n",
      "File madonnas vancouver concert controversy insensitivity or unintentional mistake.jpg already exists.\n",
      "Pop icon Madonna has come under fire after a video surfaced online showing her chastising a concert-goer for not standing up, only to discover that the individual was in a wheelchair. The incident occurred during her concert in Vancouver on February 21st, but the video has only recently started to gain traction online. In the video, Madonna can be seen strutting down the runway, pointing at a member of the audience and asking, “What are you doing sitting down over there?” Upon realizing that the individual was in a wheelchair, she quickly apologized, saying, “Oh okay, politically incorrect. Sorry about that. I’m glad you’re here.”The incident sparked outrage on social media, with many criticizing the singer for her insensitivity. One user wrote, “What an absolute disgrace! Shame on her! That’s unacceptable.” Another added, “Politically incorrect isn’t it either. Ableism. If I paid for a seat, I’ll do what I want, sit or stand. Concerts are exhausting, hot etc., nothing wrong with a break.”However, some fans came to Madonna’s defense, acknowledging that she immediately apologized and seemed genuinely remorseful. One user wrote, “It’s good to see Madonna being quick to recognize and apologize for unintentional mistakes. It’s important to be considerate and inclusive of all audience members, regardless of their abilities.”This incident comes on the heels of another onstage mishap last month, where Madonna fell off her chair while performing her hit “Open Your Heart.” Despite the fall, she quickly recovered and continued with her performance.\n",
      "File eight sleep pod 3 revolutionary mattress cover for enhanced sleep.jpg already exists.\n",
      "Endorsed by high-profile figures like Elon Musk and Danny Green, the Eight Sleep’s Pod 3 Cover has been making waves in the biohacking world. This innovative mattress cover can heat or cool your bed, potentially improving your sleep quality. Users can adjust the temperature via the Eight Sleep app or set it to autopilot mode for automatic adjustments. The Pod 3 also offers comprehensive sleep tracking. However, these features come at a price. A subscription, starting at $15 per month, is required to access the system’s smart features, and the product itself carries a hefty price tag, starting from $2,045.Despite the high cost and celebrity endorsements, the Pod 3 has proven to be a surprisingly effective sleep aid. The mattress cover, filled with a network of rubber tubing and topped with a plush black material, is comfortable and does not feel like it’s filled with sensors. The cover connects to a device that resembles a desktop PC, which houses a quad-core CPU and pumps heated or cooled water through the mattress cover.Setting up the app and Wi-Fi is a quick process, taking about five minutes. The initial setup requires filling the Pod 3 with water, a process that needs to be repeated a couple of times and takes about 90 minutes each time to pump the water into the system and calibrate. The cover features two distinct sides, allowing for different settings for each partner, a handy feature for couples with different temperature preferences.The system takes about four hours to prime, but the results can be impressive. Users have reported falling asleep in less than five minutes and achieving nearly eight hours of uninterrupted sleep, waking up refreshed and ready for the day. While the high cost and need for a subscription may deter some, the potential for improved sleep quality could make the Eight Sleep Pod 3 a worthwhile investment for others.\n",
      "File bidens interview transcripts reveal sharper memory, contradicting hurs report.jpg already exists.\n",
      "President Joe Biden’s interview transcripts with Department of Justice investigators reveal a more accurate recall and command of past events than was portrayed in a report by Special Counsel Robert Hur. The interviews, conducted last October, span 268 pages and provide a more detailed picture of Biden’s faculties. Hur, a former Trump administration appointee, was brought on by Attorney General Merrick Garland to investigate how classified documents ended up at Biden’s former Washington, DC office and his Wilmington, Delaware home. In his report, Hur declined to charge Biden for mishandling the documents, stating that he did not believe a jury could be convinced to convict beyond a reasonable doubt. However, he depicted the president as unable to remember specific dates, such as when his late son, Beau Biden, passed away from brain cancer. This portrayal has been used by Republicans to support former president Donald Trump’s unfounded claim that Biden is senile and unfit to serve, while Democrats and legal experts criticized Hur for including derogatory information about a person who was not being charged with a crime.The transcript, however, does not align with Hur’s description of Biden, particularly regarding his memory. On the topic of Beau Biden, the president remembered the exact date of his death, with others in the room mentioning the year. The transcript does not show that the president could not recall the year in question, but rather that two other people interjected with the year after Biden accurately recalled the month and day of Beau’s passing.Hur’s description of the president as being confused about dates appears less accurate when the full transcript of the interview is taken into account. The lines of questioning jump between years and time periods, and at one point, Biden correctly identified a time period related to a photograph of one of his notebooks. Hur, who is set to testify before the House Judiciary Committee, ended his tenure at the Justice Department the day before his testimony, raising concerns among Democrats on the panel. His departure from government service the day before he testifies has been flagged as problematic, as it means he will appear as a private citizen with no constraints on his testimony.\n",
      "File airbnb enhances guest privacy with new surveillance policy.jpg already exists.\n",
      "Airbnb is set to prohibit hosts from using indoor security cameras to monitor guests, marking a significant shift in its surveillance policies. The new rules, effective from April 30, require hosts to remove indoor cameras and disclose any outdoor monitoring technology to guests before booking. Previously, Airbnb permitted hosts to install security cameras in shared spaces, provided they were disclosed, clearly visible, and not located in private areas such as bedrooms and bathrooms. However, this policy has been contentious, with guests reporting instances of hidden cameras in their short-term rentals.While hosts have used cameras to deter guests from hosting large parties or to intervene in disruptive gatherings, guests have viewed this as a breach of privacy. Albert Fox Cahn, founder and executive director of the Surveillance Technology Oversight Project, a pro-privacy organization, expressed gratitude towards Airbnb for prioritizing safety and privacy.Airbnb stated that most of its listings do not mention a security camera, suggesting the policy change may not significantly impact the majority of listings. However, the company will investigate reported violations of the rule and may penalize violators by removing their listings or accounts.The new policy also mandates hosts to inform guests if they are using noise decibel monitors or outdoor cameras prior to booking. These devices are often used by hosts to monitor properties for parties, which have continued to cause noise, damage, and danger despite Airbnb’s party ban and the implementation of new anti-party technology.Furthermore, Airbnb will forbid hosts from using outdoor cameras to monitor indoor spaces and will prohibit surveillance in “certain outdoor areas where there’s a greater expectation of privacy,” such as outdoor showers and saunas. Fox Cahn highlighted that surveillance provides considerable power to those controlling the camera system and can be prone to misuse, especially in rented properties.\n",
      "File manipulated images the growing concern and the role of ai.jpg already exists.\n",
      "The question, “Where is Kate?” has recently caused a stir in the media, highlighting the growing concern over manipulated images. Kate Middleton, the Princess of Wales, had been absent from the public eye following abdominal surgery in January. On March 10, an image of Middleton with her three children was released to mark the UK’s Mother’s Day. However, it was later revealed that the photo had been manipulated, leading to an apology from the princess herself. The incident is the latest in a series of manipulated image controversies involving high-profile figures. The practice, which dates back to the era of Russia’s Joseph Stalin, has become so common that some celebrities have started to publicly criticize it. The royal image, for instance, had telltale signs of manipulation, including oddly faded strands of hair and changing lines on their clothing. In response to this growing issue, companies like Samsung have started to add metadata and watermarks to identify photos manipulated with AI. Other companies are also working on ways to confirm an image’s authenticity. However, there is currently no standard for identifying AI-created or edited images. AI-powered editing tools have also been integrated into popular software like Photoshop, opening up new possibilities for photo editing. These tools can do everything from imagining the world beyond a photo’s borders to turning specific parts of images into stickers. Despite the potential benefits of these technologies, they also pose significant challenges, particularly in the political sphere. AI tools have been used to create fake videos and images, leading to misinformation campaigns. For instance, supporters of former President Donald Trump created images showing him surrounded by fake Black voters. In response to these concerns, President Joe Biden has called for a ban on AI voice impersonation. This followed an incident where scammers created fake recordings of Biden discouraging Democratic voters from casting their ballots. While the recent controversy involving Middleton was not caused by AI, the rapid integration of the technology into image editing suggests that future manipulated photos may be harder to identify. As such, it is becoming increasingly important for individuals to exercise skepticism when viewing images, particularly those shared on social media.\n",
      "File global regulations on vaping who urges stricter laws.jpg already exists.\n",
      "The World Health Organization (WHO) has called on governments worldwide to enforce regulations on vaping similar to those on tobacco, including a ban on all flavors. According to a report by WHO, vaping is prohibited in 34 countries, including Brazil, India, Iran, and Thailand. However, the enforcement of these rules is often a challenge, leading to a thriving black market for e-cigarettes. This potential ban could impact major tobacco companies that have been investing heavily in cigarette alternatives. The report also revealed that 74 countries, primarily in Africa, as well as Pakistan, Colombia, and Mongolia, have no regulations on e-cigarettes. In contrast, countries like the US and China permit vaping but have established regulations. For instance, Australians need a prescription to use nicotine-containing e-cigarettes, and the country is grappling with an influx of illegal disposable vapes. From March, Australia will ban the import of any vape not approved as “therapeutic” by the Therapeutic Goods Administration. China, the world’s largest producer of e-cigarettes, introduced several laws in 2021 to control domestic use, including a ban on flavored products. The government has cited health concerns related to youth vaping as the reason for these regulations. In Europe, the European Commission has set regulatory standards for e-cigarettes, including limits on nicotine content and mandatory labels. National governments have also introduced laws governing their use. For example, France prohibits the sale of vapes to people under 18 and bans their use in certain public places. In Japan, e-cigarettes containing nicotine are considered medicinal products, and none have been approved for use yet. Meanwhile, the UK has made vapes a central part of its public health policy, even offering starter kits to smokers to help them quit. However, concerns have been raised about the environmental impact, health risks, and youth vaping due to the influx of flavored disposable vapes. As a result, the UK government announced in January that it would ban disposable vapes and regulate e-cigarette flavors and packaging.\n",
      "File tragic loss and rescues on mount washington amidst winter storm.jpg already exists.\n",
      "A skier from New Hampshire tragically lost his life on Mount Washington, the highest peak in the northeastern United States, standing at 6288 feet. Two other individuals were rescued from the same location during a challenging operation that spanned a stormy night from Saturday into Sunday. The circumstances surrounding the third skier, who was later confirmed deceased, were not immediately known.The trio of skiers were reportedly in trouble while skiing at Tuckerman Ravine, a popular spot for backcountry skiers, on Saturday afternoon. Two of the rescued individuals sustained non-life-threatening injuries. The conditions in the ravine were icy, according to Colleen Mainville, a spokesperson with the U.S. Forestry Service. She added that the rescue teams had to contend with snow and high winds during the operation. The National Weather Service had issued a winter storm warning for the area, predicting up to a foot of wet, heavy snowfall accompanied by high winds. Further details about the rescue operation were not immediately available due to the inconsistent cellphone coverage on Mount Washington. This incident was not the only rescue operation on Mount Washington in recent days. On Thursday, a man from Kentucky was rescued after he fell and hit his head while hiking off the trail. The man, identified as 23-year-old Joabe Barbosa, was able to call 911 for help. Using his GPS coordinates, rescuers located and assisted him, providing him with boots, food, warm drinks, proper winter gear, and a headlamp before escorting him back to the trail. Barbosa was treated at the Cog Railway base station before being transferred to Littleton Regional Health Care for further treatment. The incidents serve as a stark reminder of the dangers associated with winter sports and hiking, particularly during harsh weather conditions.\n",
      "File mumps outbreak vaccination urged amidst cases in new jersey.jpg already exists.\n",
      "A suspected cluster of mumps cases is currently under investigation by the New Jersey Department of Health. The cases are linked to eight family members from Hunterdon County who had recently traveled internationally. The U.S. Centers for Disease Control and Prevention (CDC) has reported at least 50 cases of mumps from over 20 states this year.Health officials emphasize that vaccination is the most effective protection against mumps. Dr. Kaitlan Baston, the acting health commissioner, advises the public to get the MMR shot to keep safe. Mumps is an infectious disease caused by a virus and is spread through direct contact with saliva or respiratory droplets from an infected person.Mumps outbreaks often occur in settings with frequent close contact, such as college campuses or large gatherings. The disease typically causes swelling of the glands in the head and neck, most often the parotid glands. According to Dr. Mike Smith, chief of pediatric infectious diseases at Duke University School of Medicine, an infected person can spread the infection several days before the glands start to swell and up to five days after.Symptoms of mumps include fever, headache, muscle aches, fatigue, and loss of appetite. Most people recover on their own within two weeks. In rare cases, especially in adults, swelling may occur in other parts of the body. The most common complication in males is inflammation and swelling of the testicles.Cases of mumps fell by more than 99% after the introduction of the MMR vaccine in the U.S. However, outbreaks and cases have been increasing since 2006, mostly in young adults and previously vaccinated individuals. The MMR vaccine, which prevents measles, mumps, and rubella, is recommended for children in two doses and for adults who are not immune.Dr. Aaron Glatt, chief of infectious diseases at Mount Sinai South Nassau Hospital, points out that mumps immunization rates are not where they should be. Only about 90% of children are fully vaccinated for mumps by 24 months of age. There is a chance that immunity will wane and they will get mumps if exposed later in life. In an outbreak setting, a third dose is recommended.Both measles and mumps are caused by viruses that spread disease by respiratory droplets. Worldwide, both diseases are significant problems, with over 100,000 deaths due to measles in the previous year. The MMR vaccine protects against both viral infections, but measles is more contagious than mumps and has the highest mortality rate among the three infections that it protects against.\n"
     ]
    }
   ],
   "source": [
    "article_urls = get_article_urls()\n",
    "\n",
    "titles = []\n",
    "texts = []\n",
    "img_filenames = []\n",
    "for url in article_urls:\n",
    "    title, text, img_filename = parse_article(url)\n",
    "    titles.append(title)\n",
    "    texts.append(texts)\n",
    "    img_filenames.append(img_filename)"
   ]
  },
  {
   "cell_type": "code",
   "execution_count": 35,
   "id": "229a431c-51ff-487c-8198-b85a7da737f8",
   "metadata": {},
   "outputs": [],
   "source": [
    "newsgpt_df = pd.DataFrame({\n",
    "    'Title': titles,\n",
    "    'Text': texts,\n",
    "    'Image': img_filenames,\n",
    "    'Label': 1\n",
    "})\n",
    "\n",
    "newsgpt_df.to_csv(config[\"csv_file_path\"], index=False)"
   ]
  },
  {
   "cell_type": "code",
   "execution_count": null,
   "id": "cc92765c-6205-4c52-a4a0-f770aed112f1",
   "metadata": {},
   "outputs": [],
   "source": []
  }
 ],
 "metadata": {
  "kernelspec": {
   "display_name": "Python 3 (ipykernel)",
   "language": "python",
   "name": "python3"
  },
  "language_info": {
   "codemirror_mode": {
    "name": "ipython",
    "version": 3
   },
   "file_extension": ".py",
   "mimetype": "text/x-python",
   "name": "python",
   "nbconvert_exporter": "python",
   "pygments_lexer": "ipython3",
   "version": "3.12.0"
  }
 },
 "nbformat": 4,
 "nbformat_minor": 5
}
