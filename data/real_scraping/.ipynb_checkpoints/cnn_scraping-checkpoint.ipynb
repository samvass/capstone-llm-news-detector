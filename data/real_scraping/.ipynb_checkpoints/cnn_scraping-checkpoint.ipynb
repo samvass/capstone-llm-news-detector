{
 "cells": [
  {
   "cell_type": "code",
   "execution_count": 13,
   "id": "4dc3dff6-278d-470f-9897-94fffb97ff0a",
   "metadata": {},
   "outputs": [],
   "source": [
    "import pandas as pd\n",
    "import requests\n",
    "from bs4 import BeautifulSoup as bs\n",
    "import os\n",
    "import re\n",
    "import unicodedata"
   ]
  },
  {
   "cell_type": "code",
   "execution_count": 19,
   "id": "02d63ad9-62cc-4084-b140-bc6a245d2dcc",
   "metadata": {},
   "outputs": [],
   "source": [
    "config = {\n",
    "    \"cnn_articles_path\": \"./CNN.csv\",\n",
    "    \"saved_images_path\": \"./cnn_images\",\n",
    "    \"csv_file_path\": \"./cnn_dataset.csv\",\n",
    "}"
   ]
  },
  {
   "cell_type": "code",
   "execution_count": 20,
   "id": "f19a62b4-2c06-4ef8-be86-7becffe3f0a8",
   "metadata": {},
   "outputs": [],
   "source": [
    "def get_cnn_articles_dataframe(num_articles: int):\n",
    "    df = pd.read_csv(config[\"cnn_articles_path\"])[:num_articles]\n",
    "    df.rename(columns={'Headline':'Title', 'Article text': 'Text'}, inplace=True)\n",
    "    return df"
   ]
  },
  {
   "cell_type": "code",
   "execution_count": 21,
   "id": "dcb0325c-3f91-4bfb-ae3d-587ec732e541",
   "metadata": {},
   "outputs": [],
   "source": [
    "def sanitize_title(title: str):\n",
    "    title = title[:-6] # remove the [CNN] tag at the end of title\n",
    "    return title\n",
    "\n",
    "def sanitize_text(text: str):\n",
    "    pattern = r'\\(\\s*CNN\\s*.*?\\)|\\[\\s*CNN\\s*.*?\\]'\n",
    "    text = re.sub(pattern, '', text)\n",
    "    return text\n",
    "\n",
    "def sanitize_filename(filename: str, replace=' ', max_length=255):\n",
    "    # Normalize Unicode characters to their closest ASCII representation\n",
    "    filename = unicodedata.normalize('NFKD', filename).encode('ascii', 'ignore').decode('ascii')\n",
    "    \n",
    "    # Replace unwanted characters\n",
    "    filename = re.sub(r'[\\/:*?\"<>|\\r\\n\\t]+', replace, filename)\n",
    "    \n",
    "    # Replace spaces with a chosen character (e.g., underscore)\n",
    "    filename = re.sub(r'\\s+', replace, filename).strip(replace)\n",
    "    \n",
    "    # Ensure the filename is not too long\n",
    "    filename = filename[:max_length].rstrip(replace)\n",
    "    \n",
    "    filename = filename.lower()\n",
    "    \n",
    "    return filename"
   ]
  },
  {
   "cell_type": "code",
   "execution_count": 22,
   "id": "a3459d00-53eb-49e1-8a08-91113a4d091a",
   "metadata": {},
   "outputs": [],
   "source": [
    "def find_article_img(article: pd.Series) -> str:\n",
    "    \n",
    "    # get the article\n",
    "    res = requests.get(article['Url'])\n",
    "\n",
    "    # find the main image from the article\n",
    "    soup = bs(res.content, features='html.parser')\n",
    "    container_element = soup.find('div', class_='image__container')  \n",
    "    \n",
    "    if container_element:\n",
    "        img_tag = container_element.find('img')\n",
    "        img_url = img_tag['src'] if img_tag and 'src' in img_tag.attrs else None\n",
    "\n",
    "    else:\n",
    "        img_url = None\n",
    "\n",
    "    if img_url:\n",
    "\n",
    "        img_res = requests.get(img_url)\n",
    "\n",
    "        os.makedirs(config[\"saved_images_path\"], exist_ok=True)\n",
    "\n",
    "        filename = sanitize_filename(article['Title'])\n",
    "\n",
    "        img_path = f\"{config[\"saved_images_path\"]}/{filename}.jpg\"\n",
    "\n",
    "        if not os.path.exists(img_path):\n",
    "            \n",
    "            with open(img_path, 'wb') as img_file:\n",
    "                img_file.write(img_res.content)\n",
    "        else:\n",
    "            print(f\"File {img_path} already exists.\")\n",
    "\n",
    "    else:\n",
    "        filename = 'no_image_available.jpg'  # Example placeholder\n",
    "\n",
    "    return filename"
   ]
  },
  {
   "cell_type": "code",
   "execution_count": null,
   "id": "6bd339ed-6950-4788-b59d-22e538e104f3",
   "metadata": {},
   "outputs": [
    {
     "name": "stderr",
     "output_type": "stream",
     "text": [
      "Exception ignored in: <bound method IPythonKernel._clean_thread_parent_frames of <ipykernel.ipkernel.IPythonKernel object at 0x1070d8e00>>\n",
      "Traceback (most recent call last):\n",
      "  File \"/Users/samvasserman/Library/Caches/pypoetry/virtualenvs/llm-news-detector-QdHDwUmj-py3.12/lib/python3.12/site-packages/ipykernel/ipkernel.py\", line 770, in _clean_thread_parent_frames\n",
      "    def _clean_thread_parent_frames(\n",
      "\n",
      "KeyboardInterrupt: \n"
     ]
    }
   ],
   "source": [
    "cnn_df = get_cnn_articles_dataframe(250)\n",
    "cnn_df['Text'] = cnn_df['Text'].apply(sanitize_text)\n",
    "cnn_df['Title'] = cnn_df['Title'].apply(sanitize_title)\n",
    "cnn_df['Image'] = cnn_df.apply(lambda article : find_article_img(article), axis=1)\n",
    "cnn_df['Label'] = 0 # non ai articles"
   ]
  },
  {
   "cell_type": "code",
   "execution_count": 80,
   "id": "68a09ac2-caa1-4589-8716-e79e0bea25a5",
   "metadata": {},
   "outputs": [],
   "source": [
    "cnn_df = cnn_df[['Title','Text','Image', 'Label']] # strip uneccessary columns\n",
    "cnn_df.to_csv(config[\"csv_file_path\"], index=False)"
   ]
  }
 ],
 "metadata": {
  "kernelspec": {
   "display_name": "Python 3 (ipykernel)",
   "language": "python",
   "name": "python3"
  },
  "language_info": {
   "codemirror_mode": {
    "name": "ipython",
    "version": 3
   },
   "file_extension": ".py",
   "mimetype": "text/x-python",
   "name": "python",
   "nbconvert_exporter": "python",
   "pygments_lexer": "ipython3",
   "version": "3.12.0"
  }
 },
 "nbformat": 4,
 "nbformat_minor": 5
}
