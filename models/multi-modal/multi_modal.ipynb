{
  "cells": [
    {
      "cell_type": "code",
      "execution_count": 1,
      "id": "cc281315-91db-4484-ad96-7c574fa8f159",
      "metadata": {
        "id": "cc281315-91db-4484-ad96-7c574fa8f159"
      },
      "outputs": [],
      "source": [
        "import pandas as pd\n",
        "import numpy as np\n",
        "import torch\n",
        "import torchvision.transforms as torchvision_transforms\n",
        "from torchvision.models import resnet18\n",
        "from torchvision import datasets\n",
        "from torch.utils.data import Dataset, DataLoader, random_split\n",
        "from transformers import BertModel, BertTokenizer\n",
        "import torch.nn as nn\n",
        "import torch.optim as optim\n",
        "import os\n",
        "from PIL import Image\n",
        "from tqdm import tqdm\n",
        "from sklearn.metrics import accuracy_score, precision_score, recall_score, f1_score"
      ]
    },
    {
      "cell_type": "code",
      "source": [
        "%%capture\n",
        "!pip install wandb --upgrade"
      ],
      "metadata": {
        "id": "qI9pcnmYJ9yd"
      },
      "id": "qI9pcnmYJ9yd",
      "execution_count": 2,
      "outputs": []
    },
    {
      "cell_type": "code",
      "source": [
        "import wandb\n",
        "\n",
        "wandb.login()"
      ],
      "metadata": {
        "colab": {
          "base_uri": "https://localhost:8080/"
        },
        "id": "EMDLBwBkKNPT",
        "outputId": "be3eeb80-90c8-4d02-e6d0-67ccdc4f5a8c"
      },
      "id": "EMDLBwBkKNPT",
      "execution_count": 3,
      "outputs": [
        {
          "output_type": "stream",
          "name": "stderr",
          "text": [
            "\u001b[34m\u001b[1mwandb\u001b[0m: Currently logged in as: \u001b[33msamuelvasserman\u001b[0m (\u001b[33mllm-news-detector\u001b[0m). Use \u001b[1m`wandb login --relogin`\u001b[0m to force relogin\n"
          ]
        },
        {
          "output_type": "execute_result",
          "data": {
            "text/plain": [
              "True"
            ]
          },
          "metadata": {},
          "execution_count": 3
        }
      ]
    },
    {
      "cell_type": "code",
      "source": [
        "config = dict(\n",
        "    epochs=3,\n",
        "    learning_rate=0.0001,\n",
        "    batch_size=32,\n",
        "    device=\"cuda\" if torch.cuda.is_available() else \"cpu\",\n",
        "    ai_dataset_path=\"./newsgpt_dataset.csv\",\n",
        "    real_dataset_path=\"./cnn_dataset.csv\",\n",
        "    ai_img_dir=\"./newsgpt_images\",\n",
        "    real_img_dir=\"./cnn_images\",\n",
        ")"
      ],
      "metadata": {
        "id": "saE6nrfDNwQY"
      },
      "id": "saE6nrfDNwQY",
      "execution_count": 4,
      "outputs": []
    },
    {
      "cell_type": "markdown",
      "source": [
        "# Model 🤖\n",
        "\n"
      ],
      "metadata": {
        "id": "hUwRlR2PVrVr"
      },
      "id": "hUwRlR2PVrVr"
    },
    {
      "cell_type": "code",
      "execution_count": 5,
      "id": "e53852fa-4f81-4b0e-b11e-efe6046a3d62",
      "metadata": {
        "id": "e53852fa-4f81-4b0e-b11e-efe6046a3d62"
      },
      "outputs": [],
      "source": [
        "class MultiModalModel(nn.Module):\n",
        "    def __init__(self):\n",
        "        super(MultiModalModel, self).__init__()\n",
        "        # Load pre-trained models\n",
        "        self.resnet = resnet18(pretrained=True)\n",
        "        self.bert = BertModel.from_pretrained('bert-base-uncased')\n",
        "\n",
        "        # Define concatonated layers\n",
        "        self.multi_modal_layers = nn.Sequential(\n",
        "            nn.Linear(in_features=self.resnet.fc.out_features + self.bert.config.hidden_size, out_features=512),\n",
        "            nn.ReLU(),\n",
        "            nn.Linear(512, 1)\n",
        "        )\n",
        "        self.sigmoid = nn.Sigmoid()\n",
        "\n",
        "    def forward(self, image_inputs, text_inputs):\n",
        "        # Process image input\n",
        "        image_features = self.resnet(image_inputs)\n",
        "        image_features = torch.flatten(image_features, 1)  # Flatten the features\n",
        "\n",
        "        # Process text input\n",
        "        text_features = self.bert(**text_inputs).last_hidden_state[:, 0, :]  # Get the [CLS] token's features\n",
        "\n",
        "        # Concatenate features\n",
        "        combined_features = torch.cat((image_features, text_features), dim=1)\n",
        "\n",
        "        # Pass through additional layers\n",
        "        output = self.multi_modal_layers(combined_features)\n",
        "\n",
        "        output_binary = self.sigmoid(output)\n",
        "\n",
        "        return output_binary"
      ]
    },
    {
      "cell_type": "markdown",
      "source": [
        "# Data 📊\n"
      ],
      "metadata": {
        "id": "E3M4cHURVyXa"
      },
      "id": "E3M4cHURVyXa"
    },
    {
      "cell_type": "code",
      "execution_count": 6,
      "id": "f1eb8c1f-c806-4dac-a6e6-c900a55fb920",
      "metadata": {
        "id": "f1eb8c1f-c806-4dac-a6e6-c900a55fb920"
      },
      "outputs": [],
      "source": [
        "class MultiModalDataset(Dataset):\n",
        "    def __init__(self, dataframe, ai_img_dir, real_img_dir, transform=None):\n",
        "        self.dataframe = dataframe\n",
        "        self.transform = transform\n",
        "        self.text_idx = dataframe.columns.get_loc('Text')\n",
        "        self.title_idx = dataframe.columns.get_loc('Title')\n",
        "        self.image_idx = dataframe.columns.get_loc('Image')\n",
        "        self.label_idx = dataframe.columns.get_loc('Label')\n",
        "        self.ai_img_dir = ai_img_dir\n",
        "        self.real_img_dir = real_img_dir\n",
        "\n",
        "    def __len__(self):\n",
        "        return len(self.dataframe)\n",
        "\n",
        "    def __getitem__(self, idx):\n",
        "        if torch.is_tensor(idx):\n",
        "            idx = idx.tolist()\n",
        "\n",
        "        text = self.dataframe.iloc[idx, self.text_idx]\n",
        "        title = self.dataframe.iloc[idx, self.title_idx]\n",
        "        label = self.dataframe.iloc[idx, self.label_idx]\n",
        "\n",
        "        img_folder = self.ai_img_dir if label == 1 else self.real_img_dir\n",
        "        img_name = os.path.join(img_folder, str(self.dataframe.iloc[idx, self.image_idx]))\n",
        "        image = Image.open(img_name).convert('RGB')\n",
        "\n",
        "        if self.transform:\n",
        "            image = self.transform(image)\n",
        "\n",
        "        return title, text, image, label"
      ]
    },
    {
      "cell_type": "code",
      "execution_count": 7,
      "id": "a694d8e7-eed2-46f6-a27f-941861f00d4b",
      "metadata": {
        "id": "a694d8e7-eed2-46f6-a27f-941861f00d4b"
      },
      "outputs": [],
      "source": [
        "class ImageDataset(Dataset):\n",
        "    \"\"\"\n",
        "    create image dataset for loading training images and calculating mean and std of normalization\n",
        "    for image transforms in the MMM\n",
        "\n",
        "    input: dataframe with Image, Label columns\n",
        "    \"\"\"\n",
        "    def __init__(self, dataframe, ai_img_dir, real_img_dir, transform=None):\n",
        "        self.dataframe = dataframe\n",
        "        self.ai_img_dir = ai_img_dir\n",
        "        self.real_img_dir = real_img_dir\n",
        "        self.image_idx = dataframe.columns.get_loc('Image')\n",
        "        self.label_idx = dataframe.columns.get_loc('Label')\n",
        "        self.transform = transform\n",
        "\n",
        "    def __len__(self):\n",
        "        return len(self.dataframe)\n",
        "\n",
        "    def __getitem__(self, idx):\n",
        "\n",
        "        label = self.dataframe.iloc[idx, self.label_idx]\n",
        "\n",
        "        img_folder = self.ai_img_dir if label == 1 else self.real_img_dir\n",
        "        img_name = os.path.join(img_folder, str(self.dataframe.iloc[idx, self.image_idx]))\n",
        "        image = Image.open(img_name).convert('RGB')\n",
        "\n",
        "        if self.transform:\n",
        "            image = self.transform(image)\n",
        "\n",
        "        return image"
      ]
    },
    {
      "cell_type": "code",
      "execution_count": 8,
      "id": "534961b3-c6b5-4c40-9427-5813f7b72be9",
      "metadata": {
        "id": "534961b3-c6b5-4c40-9427-5813f7b72be9"
      },
      "outputs": [],
      "source": [
        "import torch\n",
        "from torchvision import transforms as torchvision_transforms\n",
        "\n",
        "def get_mean_std(loader):\n",
        "    # Variables to accumulate the sum and sum of squares\n",
        "    channel_sum, channel_sum_squared, num_batches = 0, 0, 0\n",
        "\n",
        "    for images in loader:\n",
        "        # Assumes images are of shape (batch_size, num_channels, height, width)\n",
        "        channel_sum += torch.mean(images, dim=[0, 2, 3])\n",
        "        channel_sum_squared += torch.mean(images**2, dim=[0, 2, 3])\n",
        "        num_batches += 1\n",
        "\n",
        "    # Calculate the mean and std dev\n",
        "    mean = channel_sum / num_batches\n",
        "    # std = sqrt(E[X^2] - (E[X])^2)\n",
        "    std = (channel_sum_squared / num_batches - mean ** 2) ** 0.5\n",
        "\n",
        "    return mean, std\n",
        "\n",
        "def get_normalization_values(dataframe, ai_img_dir, real_img_dir):\n",
        "    transforms = torchvision_transforms.Compose([\n",
        "        torchvision_transforms.ToTensor(),\n",
        "        torchvision_transforms.Resize((224, 224)),\n",
        "        torchvision_transforms.CenterCrop(224),\n",
        "    ])\n",
        "\n",
        "    # Assuming ImageDataset is defined elsewhere and correctly handles the dataframe and directories\n",
        "    dataset = ImageDataset(dataframe, ai_img_dir, real_img_dir, transforms)\n",
        "\n",
        "    batch_size = 32\n",
        "    loader = torch.utils.data.DataLoader(dataset, batch_size=batch_size, shuffle=True)\n",
        "\n",
        "    mean, std = get_mean_std(loader)\n",
        "    return mean, std\n"
      ]
    },
    {
      "cell_type": "code",
      "execution_count": 9,
      "id": "5d46ec01-0e45-4fa7-9374-d7e53530ab92",
      "metadata": {
        "id": "5d46ec01-0e45-4fa7-9374-d7e53530ab92"
      },
      "outputs": [],
      "source": [
        "def get_data(ai_dataset_path, real_dataset_path, ai_img_dir, real_img_dir):\n",
        "\n",
        "    # get the datasets\n",
        "    ai_data = pd.read_csv(ai_dataset_path)\n",
        "    real_data = pd.read_csv(real_dataset_path)\n",
        "\n",
        "    combined_data = pd.concat([ai_data, real_data])\n",
        "\n",
        "    # shuffle dataset before hand\n",
        "    combined_data_shuffled = combined_data.sample(frac=1).reset_index(drop=True)\n",
        "\n",
        "    mean, std = get_normalization_values(combined_data[['Image', 'Label']], ai_img_dir, real_img_dir)\n",
        "\n",
        "    print(mean, std)\n",
        "\n",
        "    transform = torchvision_transforms.Compose([\n",
        "        torchvision_transforms.Resize(256),\n",
        "        torchvision_transforms.CenterCrop(224),\n",
        "        torchvision_transforms.ToTensor(),\n",
        "        torchvision_transforms.Normalize(mean=mean, std=std),\n",
        "    ])\n",
        "\n",
        "    # create dataset class\n",
        "    dataset = MultiModalDataset(\n",
        "        dataframe=combined_data,\n",
        "        ai_img_dir=ai_img_dir,\n",
        "        real_img_dir=real_img_dir,\n",
        "        transform=transform\n",
        "    )\n",
        "\n",
        "    # Split the dataset\n",
        "    train_size = int(0.75 * len(dataset)) #60%\n",
        "    val_size = int(0.10 * len(dataset)) #30%\n",
        "    test_size = len(dataset) - train_size - val_size #10%\n",
        "\n",
        "    train_dataset, val_dataset, test_dataset = random_split(dataset, [train_size, val_size, test_size])\n",
        "\n",
        "    return train_dataset, val_dataset, test_dataset"
      ]
    },
    {
      "cell_type": "markdown",
      "source": [
        "# Training 👟"
      ],
      "metadata": {
        "id": "R-vyl7CxWDtC"
      },
      "id": "R-vyl7CxWDtC"
    },
    {
      "cell_type": "code",
      "execution_count": 10,
      "id": "77433b81-df67-4983-b558-d57ebed509bb",
      "metadata": {
        "id": "77433b81-df67-4983-b558-d57ebed509bb"
      },
      "outputs": [],
      "source": [
        "def train(model, train_loader, val_loader, criterion, optimizer, config):\n",
        "\n",
        "    wandb.watch(model, criterion, log=\"all\", log_freq=10)\n",
        "\n",
        "    # Run training and track with wandb\n",
        "    total_batches = len(train_loader) * config[\"epochs\"]\n",
        "    example_ct = 0  # number of examples seen\n",
        "    batch_ct = 0\n",
        "    for epoch in tqdm(range(config[\"epochs\"])):\n",
        "        for title, text, image, label in train_loader:\n",
        "            tokenizer = BertTokenizer.from_pretrained('bert-base-uncased')\n",
        "            text = tokenizer(text, return_tensors=\"pt\", padding='max_length', truncation=True, max_length=512)\n",
        "\n",
        "            loss = train_batch(text, image, label, model, optimizer, criterion)\n",
        "            example_ct += len(image)\n",
        "            batch_ct += 1\n",
        "\n",
        "            # Report metrics every 3rd batch\n",
        "            if ((batch_ct + 1) % 3) == 0:\n",
        "                train_log(loss, example_ct, epoch)\n",
        "\n",
        "        # run validation every epoch\n",
        "        test(model, val_loader, epoch=epoch)\n",
        "\n",
        "\n",
        "def train_batch(text, image, label, model, optimizer, criterion):\n",
        "    text, image, label = text.to(config[\"device\"]), image.to(config[\"device\"]), label.to(config[\"device\"])\n",
        "\n",
        "    # Forward pass ➡\n",
        "    output = model(image, text)\n",
        "    loss = criterion(torch.squeeze(output, 1), label.float())\n",
        "\n",
        "    # Backward pass ⬅\n",
        "    optimizer.zero_grad()\n",
        "    loss.backward()\n",
        "\n",
        "    # Step with optimizer\n",
        "    optimizer.step()\n",
        "\n",
        "    return loss"
      ]
    },
    {
      "cell_type": "code",
      "execution_count": 11,
      "id": "e3089c1b-a032-481c-9eb0-c1fc73d4dbd3",
      "metadata": {
        "id": "e3089c1b-a032-481c-9eb0-c1fc73d4dbd3"
      },
      "outputs": [],
      "source": [
        "def train_log(loss, example_ct, epoch):\n",
        "    wandb.log({\"epoch\": epoch, \"loss\": loss}, step=example_ct)\n",
        "    print(f\"Loss after {str(example_ct).zfill(5)} examples: {loss:.3f}\")"
      ]
    },
    {
      "cell_type": "markdown",
      "source": [
        "# Testing 🧪"
      ],
      "metadata": {
        "id": "t23Vblo9WQvc"
      },
      "id": "t23Vblo9WQvc"
    },
    {
      "cell_type": "code",
      "execution_count": 12,
      "id": "a56fef7e-f306-45e0-9dec-773ee98904ca",
      "metadata": {
        "id": "a56fef7e-f306-45e0-9dec-773ee98904ca"
      },
      "outputs": [],
      "source": [
        "def test(model, loader, epoch=None):\n",
        "    model.eval()\n",
        "\n",
        "    all_labels = []\n",
        "    all_predictions = []\n",
        "\n",
        "    # Run the model on some test examples\n",
        "    with torch.no_grad():\n",
        "        correct, total = 0, 0\n",
        "        for title, text, image, label in loader:\n",
        "            tokenizer = BertTokenizer.from_pretrained('bert-base-uncased')\n",
        "            text = tokenizer(text, return_tensors=\"pt\", padding='max_length', truncation=True, max_length=512)\n",
        "\n",
        "            text, image, label = text.to(config[\"device\"]), image.to(config[\"device\"]), label.to(config[\"device\"])\n",
        "            output = model(image, text)\n",
        "            predicted = (output.data > 0.5).long()\n",
        "            total += label.size(0)\n",
        "            correct += (predicted == label).sum().item()\n",
        "\n",
        "            all_labels.extend(label.cpu().numpy())\n",
        "            flattened_predictions = [pred[0] for pred in predicted.cpu().numpy().tolist()]\n",
        "            all_predictions.extend(flattened_predictions)\n",
        "\n",
        "    print(all_labels, all_predictions)\n",
        "    accuracy = accuracy_score(all_labels, all_predictions)\n",
        "    precision = precision_score(all_labels, all_predictions, zero_division=0)\n",
        "    recall = recall_score(all_labels, all_predictions, zero_division=0)\n",
        "    f1 = f1_score(all_labels, all_predictions, zero_division=0)\n",
        "\n",
        "    print(f\"Accuracy of the model on the {total} test examples: {accuracy:.2%}\")\n",
        "    print(f\"Precision: {precision:.2f}\")\n",
        "    print(f\"Recall: {recall:.2f}\")\n",
        "    print(f\"F1 Score: {f1:.2f}\")\n",
        "\n",
        "    # Log metrics\n",
        "    if epoch:\n",
        "      wandb.log({\"val_accuracy\": accuracy, \"val_precision\": precision, \"val_recall\": recall, \"val_f1_score\": f1, \"epoch\": epoch})\n",
        "    else:\n",
        "      wandb.log({\"test_accuracy\": accuracy, \"test_precision\": precision, \"test_recall\": recall, \"test_f1_score\": f1})\n",
        "\n",
        "    # Save the model\n",
        "    #wandb.save(\"mmm.onnx\")\n"
      ]
    },
    {
      "cell_type": "markdown",
      "source": [
        "# Pipeline 😎"
      ],
      "metadata": {
        "id": "95nkVa9QWTeL"
      },
      "id": "95nkVa9QWTeL"
    },
    {
      "cell_type": "code",
      "execution_count": 13,
      "id": "586bf741-7bd4-4741-8c50-ad2118b4bfd9",
      "metadata": {
        "id": "586bf741-7bd4-4741-8c50-ad2118b4bfd9"
      },
      "outputs": [],
      "source": [
        "def model_pipeline(config):\n",
        "\n",
        "  with wandb.init(project=\"multi-modal model\", config=config):\n",
        "      # make the model, data, and optimization problem\n",
        "      config = wandb.config\n",
        "\n",
        "      print(config)\n",
        "\n",
        "      model, train_loader, val_loader, test_loader, criterion, optimizer = make(config)\n",
        "      #print(model)\n",
        "\n",
        "      # and use them to train the model\n",
        "      train(model, train_loader, val_loader, criterion, optimizer, config)\n",
        "\n",
        "      # and test its final performance\n",
        "      test(model, test_loader)\n",
        "\n",
        "      torch.save(model.state_dict(), '/content/drive/MyDrive/model_saved.pth')\n",
        "\n",
        "      return model"
      ]
    },
    {
      "cell_type": "code",
      "execution_count": 14,
      "id": "43b44ff9-c7c2-4fd5-9472-bffd02343fe7",
      "metadata": {
        "id": "43b44ff9-c7c2-4fd5-9472-bffd02343fe7"
      },
      "outputs": [],
      "source": [
        "def make(config):\n",
        "    # Make the data\n",
        "    train, val, test = get_data(\n",
        "        config[\"ai_dataset_path\"],\n",
        "        config[\"real_dataset_path\"],\n",
        "        config[\"ai_img_dir\"],\n",
        "        config[\"real_img_dir\"],\n",
        "    )\n",
        "\n",
        "    train_loader = DataLoader(train, batch_size=config[\"batch_size\"], shuffle=True)\n",
        "    val_loader = DataLoader(val, batch_size=config[\"batch_size\"], shuffle=True)\n",
        "    test_loader = DataLoader(test, batch_size=config[\"batch_size\"], shuffle=True)\n",
        "\n",
        "    # Make the model\n",
        "    model = MultiModalModel().to(config[\"device\"])\n",
        "\n",
        "    criterion = nn.BCELoss()\n",
        "    optimizer = optim.Adam(model.parameters(), lr=config[\"learning_rate\"])\n",
        "\n",
        "    return model, train_loader, val_loader, test_loader, criterion, optimizer"
      ]
    },
    {
      "cell_type": "code",
      "execution_count": 15,
      "id": "249ecb8d-53f3-40e5-b7ab-7a1f526dcdaf",
      "metadata": {
        "colab": {
          "base_uri": "https://localhost:8080/",
          "height": 1000,
          "referenced_widgets": [
            "77bb6c8e2ccd4b2dbbc94a823cffba0b",
            "3557e5ea8cf547f598861af5fe015936",
            "62180750d67e45f1a23efeca0daa30c8",
            "a827614a5aae441a88853e4257cb206c",
            "65c6d258000444a691790159454390d8",
            "1ecca91c0791440bab34e6d74283a567",
            "7b6576c750a24a8a8a5d15b74afe40c4",
            "6dcbc669ae8f48ac84b0782acdc7c41a"
          ]
        },
        "id": "249ecb8d-53f3-40e5-b7ab-7a1f526dcdaf",
        "outputId": "527a6b79-7c7e-48e8-c179-0a32a6f32218"
      },
      "outputs": [
        {
          "output_type": "stream",
          "name": "stdout",
          "text": [
            "running on cuda\n"
          ]
        },
        {
          "output_type": "display_data",
          "data": {
            "text/plain": [
              "<IPython.core.display.HTML object>"
            ],
            "text/html": [
              "Tracking run with wandb version 0.16.5"
            ]
          },
          "metadata": {}
        },
        {
          "output_type": "display_data",
          "data": {
            "text/plain": [
              "<IPython.core.display.HTML object>"
            ],
            "text/html": [
              "Run data is saved locally in <code>/content/wandb/run-20240328_220517-u6ksuy3y</code>"
            ]
          },
          "metadata": {}
        },
        {
          "output_type": "display_data",
          "data": {
            "text/plain": [
              "<IPython.core.display.HTML object>"
            ],
            "text/html": [
              "Syncing run <strong><a href='https://wandb.ai/llm-news-detector/multi-modal%20model/runs/u6ksuy3y/workspace' target=\"_blank\">dutiful-star-43</a></strong> to <a href='https://wandb.ai/llm-news-detector/multi-modal%20model' target=\"_blank\">Weights & Biases</a> (<a href='https://wandb.me/run' target=\"_blank\">docs</a>)<br/>"
            ]
          },
          "metadata": {}
        },
        {
          "output_type": "display_data",
          "data": {
            "text/plain": [
              "<IPython.core.display.HTML object>"
            ],
            "text/html": [
              " View project at <a href='https://wandb.ai/llm-news-detector/multi-modal%20model' target=\"_blank\">https://wandb.ai/llm-news-detector/multi-modal%20model</a>"
            ]
          },
          "metadata": {}
        },
        {
          "output_type": "display_data",
          "data": {
            "text/plain": [
              "<IPython.core.display.HTML object>"
            ],
            "text/html": [
              " View run at <a href='https://wandb.ai/llm-news-detector/multi-modal%20model/runs/u6ksuy3y/workspace' target=\"_blank\">https://wandb.ai/llm-news-detector/multi-modal%20model/runs/u6ksuy3y/workspace</a>"
            ]
          },
          "metadata": {}
        },
        {
          "output_type": "stream",
          "name": "stdout",
          "text": [
            "{'epochs': 3, 'learning_rate': 0.0001, 'batch_size': 32, 'device': 'cuda', 'ai_dataset_path': './newsgpt_dataset.csv', 'real_dataset_path': './cnn_dataset.csv', 'ai_img_dir': './newsgpt_images', 'real_img_dir': './cnn_images'}\n",
            "tensor([0.4596, 0.4274, 0.4171]) tensor([0.2688, 0.2561, 0.2587])\n"
          ]
        },
        {
          "output_type": "stream",
          "name": "stderr",
          "text": [
            "/usr/local/lib/python3.10/dist-packages/torchvision/models/_utils.py:208: UserWarning: The parameter 'pretrained' is deprecated since 0.13 and may be removed in the future, please use 'weights' instead.\n",
            "  warnings.warn(\n",
            "/usr/local/lib/python3.10/dist-packages/torchvision/models/_utils.py:223: UserWarning: Arguments other than a weight enum or `None` for 'weights' are deprecated since 0.13 and may be removed in the future. The current behavior is equivalent to passing `weights=ResNet18_Weights.IMAGENET1K_V1`. You can also use `weights=ResNet18_Weights.DEFAULT` to get the most up-to-date weights.\n",
            "  warnings.warn(msg)\n",
            "/usr/local/lib/python3.10/dist-packages/huggingface_hub/utils/_token.py:88: UserWarning: \n",
            "The secret `HF_TOKEN` does not exist in your Colab secrets.\n",
            "To authenticate with the Hugging Face Hub, create a token in your settings tab (https://huggingface.co/settings/tokens), set it as secret in your Google Colab and restart your session.\n",
            "You will be able to reuse this secret in all of your notebooks.\n",
            "Please note that authentication is recommended but still optional to access public models or datasets.\n",
            "  warnings.warn(\n",
            "  0%|          | 0/3 [00:00<?, ?it/s]"
          ]
        },
        {
          "output_type": "stream",
          "name": "stdout",
          "text": [
            "Loss after 00064 examples: 0.629\n",
            "Loss after 00160 examples: 0.531\n",
            "Loss after 00256 examples: 0.242\n",
            "Loss after 00321 examples: 0.092\n"
          ]
        },
        {
          "output_type": "stream",
          "name": "stderr",
          "text": [
            "\r 33%|███▎      | 1/3 [00:25<00:51, 25.91s/it]"
          ]
        },
        {
          "output_type": "stream",
          "name": "stdout",
          "text": [
            "[0, 0, 0, 0, 1, 0, 1, 0, 0, 0, 0, 1, 1, 0, 1, 0, 0, 1, 0, 0, 1, 1, 1, 0, 1, 0, 1, 0, 0, 0, 0, 0, 0, 0, 0, 0, 0, 1, 1, 0, 0, 0] [0, 0, 0, 0, 1, 0, 1, 0, 1, 0, 0, 1, 1, 0, 1, 0, 0, 1, 0, 0, 1, 1, 1, 0, 1, 0, 1, 0, 0, 0, 0, 0, 0, 0, 0, 0, 0, 1, 1, 0, 0, 0]\n",
            "Accuracy of the model on the 42 test examples: 97.62%\n",
            "Precision: 0.93\n",
            "Recall: 1.00\n",
            "F1 Score: 0.96\n",
            "Loss after 00417 examples: 0.014\n",
            "Loss after 00513 examples: 0.020\n",
            "Loss after 00609 examples: 0.002\n"
          ]
        },
        {
          "output_type": "stream",
          "name": "stderr",
          "text": [
            "\r 67%|██████▋   | 2/3 [00:49<00:24, 24.74s/it]"
          ]
        },
        {
          "output_type": "stream",
          "name": "stdout",
          "text": [
            "[0, 0, 0, 0, 1, 1, 1, 0, 1, 0, 0, 0, 0, 0, 1, 0, 0, 0, 1, 1, 1, 0, 0, 0, 1, 0, 1, 0, 0, 1, 0, 0, 0, 0, 0, 0, 1, 0, 0, 0, 0, 1] [0, 0, 0, 0, 1, 1, 1, 0, 1, 0, 0, 0, 0, 0, 1, 0, 0, 1, 1, 1, 1, 0, 0, 0, 1, 0, 1, 0, 1, 1, 0, 0, 0, 0, 0, 0, 1, 0, 0, 0, 0, 1]\n",
            "Accuracy of the model on the 42 test examples: 95.24%\n",
            "Precision: 0.87\n",
            "Recall: 1.00\n",
            "F1 Score: 0.93\n",
            "Loss after 00674 examples: 0.001\n",
            "Loss after 00770 examples: 0.002\n",
            "Loss after 00866 examples: 0.001\n",
            "Loss after 00962 examples: 0.002\n"
          ]
        },
        {
          "output_type": "stream",
          "name": "stderr",
          "text": [
            "100%|██████████| 3/3 [01:13<00:00, 24.65s/it]"
          ]
        },
        {
          "output_type": "stream",
          "name": "stdout",
          "text": [
            "[0, 1, 0, 0, 0, 0, 0, 1, 1, 1, 0, 1, 1, 0, 0, 0, 0, 0, 0, 0, 1, 0, 1, 0, 0, 1, 0, 0, 0, 0, 0, 1, 0, 0, 0, 1, 0, 1, 0, 1, 0, 0] [0, 1, 0, 0, 0, 0, 0, 1, 1, 1, 0, 1, 1, 0, 0, 0, 0, 0, 0, 0, 1, 0, 1, 0, 0, 1, 0, 0, 0, 0, 0, 1, 0, 0, 0, 1, 0, 1, 0, 1, 0, 1]\n",
            "Accuracy of the model on the 42 test examples: 97.62%\n",
            "Precision: 0.93\n",
            "Recall: 1.00\n",
            "F1 Score: 0.96\n"
          ]
        },
        {
          "output_type": "stream",
          "name": "stderr",
          "text": [
            "\n"
          ]
        },
        {
          "output_type": "stream",
          "name": "stdout",
          "text": [
            "[0, 0, 0, 1, 0, 1, 0, 1, 0, 0, 1, 1, 1, 0, 0, 0, 1, 0, 1, 1, 0, 0, 1, 0, 1, 0, 1, 0, 0, 0, 0, 0, 1, 1, 0, 1, 1, 0, 0, 0, 0, 0, 0, 0, 1, 1, 0, 0, 0, 0, 1, 1, 1, 0, 0, 1, 0, 0, 0, 1, 0, 1, 0, 0, 1, 0] [0, 0, 0, 1, 0, 1, 0, 1, 0, 0, 1, 1, 1, 0, 0, 0, 1, 0, 1, 1, 0, 0, 1, 0, 1, 0, 1, 0, 0, 0, 0, 0, 1, 1, 0, 1, 1, 0, 0, 0, 0, 1, 0, 0, 1, 1, 0, 0, 0, 0, 1, 1, 1, 0, 0, 1, 0, 0, 0, 1, 0, 1, 0, 0, 1, 0]\n",
            "Accuracy of the model on the 66 test examples: 98.48%\n",
            "Precision: 0.96\n",
            "Recall: 1.00\n",
            "F1 Score: 0.98\n"
          ]
        },
        {
          "output_type": "display_data",
          "data": {
            "text/plain": [
              "VBox(children=(Label(value='0.002 MB of 0.002 MB uploaded\\r'), FloatProgress(value=1.0, max=1.0)))"
            ],
            "application/vnd.jupyter.widget-view+json": {
              "version_major": 2,
              "version_minor": 0,
              "model_id": "77bb6c8e2ccd4b2dbbc94a823cffba0b"
            }
          },
          "metadata": {}
        },
        {
          "output_type": "display_data",
          "data": {
            "text/plain": [
              "<IPython.core.display.HTML object>"
            ],
            "text/html": [
              "<style>\n",
              "    table.wandb td:nth-child(1) { padding: 0 10px; text-align: left ; width: auto;} td:nth-child(2) {text-align: left ; width: 100%}\n",
              "    .wandb-row { display: flex; flex-direction: row; flex-wrap: wrap; justify-content: flex-start; width: 100% }\n",
              "    .wandb-col { display: flex; flex-direction: column; flex-basis: 100%; flex: 1; padding: 10px; }\n",
              "    </style>\n",
              "<div class=\"wandb-row\"><div class=\"wandb-col\"><h3>Run history:</h3><br/><table class=\"wandb\"><tr><td>epoch</td><td>▁▁▁▁▅▅▅████</td></tr><tr><td>loss</td><td>█▇▄▂▁▁▁▁▁▁▁</td></tr><tr><td>test_accuracy</td><td>▁█</td></tr><tr><td>test_f1_score</td><td>▁█</td></tr><tr><td>test_precision</td><td>▁█</td></tr><tr><td>test_recall</td><td>▁▁</td></tr><tr><td>val_accuracy</td><td>▁█</td></tr><tr><td>val_f1_score</td><td>▁█</td></tr><tr><td>val_precision</td><td>▁█</td></tr><tr><td>val_recall</td><td>▁▁</td></tr></table><br/></div><div class=\"wandb-col\"><h3>Run summary:</h3><br/><table class=\"wandb\"><tr><td>epoch</td><td>2</td></tr><tr><td>loss</td><td>0.00173</td></tr><tr><td>test_accuracy</td><td>0.98485</td></tr><tr><td>test_f1_score</td><td>0.98039</td></tr><tr><td>test_precision</td><td>0.96154</td></tr><tr><td>test_recall</td><td>1.0</td></tr><tr><td>val_accuracy</td><td>0.97619</td></tr><tr><td>val_f1_score</td><td>0.96296</td></tr><tr><td>val_precision</td><td>0.92857</td></tr><tr><td>val_recall</td><td>1.0</td></tr></table><br/></div></div>"
            ]
          },
          "metadata": {}
        },
        {
          "output_type": "display_data",
          "data": {
            "text/plain": [
              "<IPython.core.display.HTML object>"
            ],
            "text/html": [
              " View run <strong style=\"color:#cdcd00\">dutiful-star-43</strong> at: <a href='https://wandb.ai/llm-news-detector/multi-modal%20model/runs/u6ksuy3y/workspace' target=\"_blank\">https://wandb.ai/llm-news-detector/multi-modal%20model/runs/u6ksuy3y/workspace</a><br/>Synced 5 W&B file(s), 0 media file(s), 0 artifact file(s) and 0 other file(s)"
            ]
          },
          "metadata": {}
        },
        {
          "output_type": "display_data",
          "data": {
            "text/plain": [
              "<IPython.core.display.HTML object>"
            ],
            "text/html": [
              "Find logs at: <code>./wandb/run-20240328_220517-u6ksuy3y/logs</code>"
            ]
          },
          "metadata": {}
        },
        {
          "output_type": "execute_result",
          "data": {
            "text/plain": [
              "MultiModalModel(\n",
              "  (resnet): ResNet(\n",
              "    (conv1): Conv2d(3, 64, kernel_size=(7, 7), stride=(2, 2), padding=(3, 3), bias=False)\n",
              "    (bn1): BatchNorm2d(64, eps=1e-05, momentum=0.1, affine=True, track_running_stats=True)\n",
              "    (relu): ReLU(inplace=True)\n",
              "    (maxpool): MaxPool2d(kernel_size=3, stride=2, padding=1, dilation=1, ceil_mode=False)\n",
              "    (layer1): Sequential(\n",
              "      (0): BasicBlock(\n",
              "        (conv1): Conv2d(64, 64, kernel_size=(3, 3), stride=(1, 1), padding=(1, 1), bias=False)\n",
              "        (bn1): BatchNorm2d(64, eps=1e-05, momentum=0.1, affine=True, track_running_stats=True)\n",
              "        (relu): ReLU(inplace=True)\n",
              "        (conv2): Conv2d(64, 64, kernel_size=(3, 3), stride=(1, 1), padding=(1, 1), bias=False)\n",
              "        (bn2): BatchNorm2d(64, eps=1e-05, momentum=0.1, affine=True, track_running_stats=True)\n",
              "      )\n",
              "      (1): BasicBlock(\n",
              "        (conv1): Conv2d(64, 64, kernel_size=(3, 3), stride=(1, 1), padding=(1, 1), bias=False)\n",
              "        (bn1): BatchNorm2d(64, eps=1e-05, momentum=0.1, affine=True, track_running_stats=True)\n",
              "        (relu): ReLU(inplace=True)\n",
              "        (conv2): Conv2d(64, 64, kernel_size=(3, 3), stride=(1, 1), padding=(1, 1), bias=False)\n",
              "        (bn2): BatchNorm2d(64, eps=1e-05, momentum=0.1, affine=True, track_running_stats=True)\n",
              "      )\n",
              "    )\n",
              "    (layer2): Sequential(\n",
              "      (0): BasicBlock(\n",
              "        (conv1): Conv2d(64, 128, kernel_size=(3, 3), stride=(2, 2), padding=(1, 1), bias=False)\n",
              "        (bn1): BatchNorm2d(128, eps=1e-05, momentum=0.1, affine=True, track_running_stats=True)\n",
              "        (relu): ReLU(inplace=True)\n",
              "        (conv2): Conv2d(128, 128, kernel_size=(3, 3), stride=(1, 1), padding=(1, 1), bias=False)\n",
              "        (bn2): BatchNorm2d(128, eps=1e-05, momentum=0.1, affine=True, track_running_stats=True)\n",
              "        (downsample): Sequential(\n",
              "          (0): Conv2d(64, 128, kernel_size=(1, 1), stride=(2, 2), bias=False)\n",
              "          (1): BatchNorm2d(128, eps=1e-05, momentum=0.1, affine=True, track_running_stats=True)\n",
              "        )\n",
              "      )\n",
              "      (1): BasicBlock(\n",
              "        (conv1): Conv2d(128, 128, kernel_size=(3, 3), stride=(1, 1), padding=(1, 1), bias=False)\n",
              "        (bn1): BatchNorm2d(128, eps=1e-05, momentum=0.1, affine=True, track_running_stats=True)\n",
              "        (relu): ReLU(inplace=True)\n",
              "        (conv2): Conv2d(128, 128, kernel_size=(3, 3), stride=(1, 1), padding=(1, 1), bias=False)\n",
              "        (bn2): BatchNorm2d(128, eps=1e-05, momentum=0.1, affine=True, track_running_stats=True)\n",
              "      )\n",
              "    )\n",
              "    (layer3): Sequential(\n",
              "      (0): BasicBlock(\n",
              "        (conv1): Conv2d(128, 256, kernel_size=(3, 3), stride=(2, 2), padding=(1, 1), bias=False)\n",
              "        (bn1): BatchNorm2d(256, eps=1e-05, momentum=0.1, affine=True, track_running_stats=True)\n",
              "        (relu): ReLU(inplace=True)\n",
              "        (conv2): Conv2d(256, 256, kernel_size=(3, 3), stride=(1, 1), padding=(1, 1), bias=False)\n",
              "        (bn2): BatchNorm2d(256, eps=1e-05, momentum=0.1, affine=True, track_running_stats=True)\n",
              "        (downsample): Sequential(\n",
              "          (0): Conv2d(128, 256, kernel_size=(1, 1), stride=(2, 2), bias=False)\n",
              "          (1): BatchNorm2d(256, eps=1e-05, momentum=0.1, affine=True, track_running_stats=True)\n",
              "        )\n",
              "      )\n",
              "      (1): BasicBlock(\n",
              "        (conv1): Conv2d(256, 256, kernel_size=(3, 3), stride=(1, 1), padding=(1, 1), bias=False)\n",
              "        (bn1): BatchNorm2d(256, eps=1e-05, momentum=0.1, affine=True, track_running_stats=True)\n",
              "        (relu): ReLU(inplace=True)\n",
              "        (conv2): Conv2d(256, 256, kernel_size=(3, 3), stride=(1, 1), padding=(1, 1), bias=False)\n",
              "        (bn2): BatchNorm2d(256, eps=1e-05, momentum=0.1, affine=True, track_running_stats=True)\n",
              "      )\n",
              "    )\n",
              "    (layer4): Sequential(\n",
              "      (0): BasicBlock(\n",
              "        (conv1): Conv2d(256, 512, kernel_size=(3, 3), stride=(2, 2), padding=(1, 1), bias=False)\n",
              "        (bn1): BatchNorm2d(512, eps=1e-05, momentum=0.1, affine=True, track_running_stats=True)\n",
              "        (relu): ReLU(inplace=True)\n",
              "        (conv2): Conv2d(512, 512, kernel_size=(3, 3), stride=(1, 1), padding=(1, 1), bias=False)\n",
              "        (bn2): BatchNorm2d(512, eps=1e-05, momentum=0.1, affine=True, track_running_stats=True)\n",
              "        (downsample): Sequential(\n",
              "          (0): Conv2d(256, 512, kernel_size=(1, 1), stride=(2, 2), bias=False)\n",
              "          (1): BatchNorm2d(512, eps=1e-05, momentum=0.1, affine=True, track_running_stats=True)\n",
              "        )\n",
              "      )\n",
              "      (1): BasicBlock(\n",
              "        (conv1): Conv2d(512, 512, kernel_size=(3, 3), stride=(1, 1), padding=(1, 1), bias=False)\n",
              "        (bn1): BatchNorm2d(512, eps=1e-05, momentum=0.1, affine=True, track_running_stats=True)\n",
              "        (relu): ReLU(inplace=True)\n",
              "        (conv2): Conv2d(512, 512, kernel_size=(3, 3), stride=(1, 1), padding=(1, 1), bias=False)\n",
              "        (bn2): BatchNorm2d(512, eps=1e-05, momentum=0.1, affine=True, track_running_stats=True)\n",
              "      )\n",
              "    )\n",
              "    (avgpool): AdaptiveAvgPool2d(output_size=(1, 1))\n",
              "    (fc): Linear(in_features=512, out_features=1000, bias=True)\n",
              "  )\n",
              "  (bert): BertModel(\n",
              "    (embeddings): BertEmbeddings(\n",
              "      (word_embeddings): Embedding(30522, 768, padding_idx=0)\n",
              "      (position_embeddings): Embedding(512, 768)\n",
              "      (token_type_embeddings): Embedding(2, 768)\n",
              "      (LayerNorm): LayerNorm((768,), eps=1e-12, elementwise_affine=True)\n",
              "      (dropout): Dropout(p=0.1, inplace=False)\n",
              "    )\n",
              "    (encoder): BertEncoder(\n",
              "      (layer): ModuleList(\n",
              "        (0-11): 12 x BertLayer(\n",
              "          (attention): BertAttention(\n",
              "            (self): BertSelfAttention(\n",
              "              (query): Linear(in_features=768, out_features=768, bias=True)\n",
              "              (key): Linear(in_features=768, out_features=768, bias=True)\n",
              "              (value): Linear(in_features=768, out_features=768, bias=True)\n",
              "              (dropout): Dropout(p=0.1, inplace=False)\n",
              "            )\n",
              "            (output): BertSelfOutput(\n",
              "              (dense): Linear(in_features=768, out_features=768, bias=True)\n",
              "              (LayerNorm): LayerNorm((768,), eps=1e-12, elementwise_affine=True)\n",
              "              (dropout): Dropout(p=0.1, inplace=False)\n",
              "            )\n",
              "          )\n",
              "          (intermediate): BertIntermediate(\n",
              "            (dense): Linear(in_features=768, out_features=3072, bias=True)\n",
              "            (intermediate_act_fn): GELUActivation()\n",
              "          )\n",
              "          (output): BertOutput(\n",
              "            (dense): Linear(in_features=3072, out_features=768, bias=True)\n",
              "            (LayerNorm): LayerNorm((768,), eps=1e-12, elementwise_affine=True)\n",
              "            (dropout): Dropout(p=0.1, inplace=False)\n",
              "          )\n",
              "        )\n",
              "      )\n",
              "    )\n",
              "    (pooler): BertPooler(\n",
              "      (dense): Linear(in_features=768, out_features=768, bias=True)\n",
              "      (activation): Tanh()\n",
              "    )\n",
              "  )\n",
              "  (multi_modal_layers): Sequential(\n",
              "    (0): Linear(in_features=1768, out_features=512, bias=True)\n",
              "    (1): ReLU()\n",
              "    (2): Linear(in_features=512, out_features=1, bias=True)\n",
              "  )\n",
              "  (sigmoid): Sigmoid()\n",
              ")"
            ]
          },
          "metadata": {},
          "execution_count": 15
        }
      ],
      "source": [
        "device = torch.device(config[\"device\"])\n",
        "\n",
        "print(\"running on \" + config[\"device\"])\n",
        "\n",
        "model_pipeline(config)"
      ]
    },
    {
      "cell_type": "code",
      "source": [],
      "metadata": {
        "id": "l0bNLCSY8WmQ"
      },
      "id": "l0bNLCSY8WmQ",
      "execution_count": 15,
      "outputs": []
    }
  ],
  "metadata": {
    "kernelspec": {
      "display_name": "Python 3",
      "name": "python3"
    },
    "language_info": {
      "codemirror_mode": {
        "name": "ipython",
        "version": 3
      },
      "file_extension": ".py",
      "mimetype": "text/x-python",
      "name": "python",
      "nbconvert_exporter": "python",
      "pygments_lexer": "ipython3",
      "version": "3.12.0"
    },
    "colab": {
      "provenance": [],
      "gpuType": "A100"
    },
    "widgets": {
      "application/vnd.jupyter.widget-state+json": {
        "77bb6c8e2ccd4b2dbbc94a823cffba0b": {
          "model_module": "@jupyter-widgets/controls",
          "model_name": "VBoxModel",
          "model_module_version": "1.5.0",
          "state": {
            "_dom_classes": [],
            "_model_module": "@jupyter-widgets/controls",
            "_model_module_version": "1.5.0",
            "_model_name": "VBoxModel",
            "_view_count": null,
            "_view_module": "@jupyter-widgets/controls",
            "_view_module_version": "1.5.0",
            "_view_name": "VBoxView",
            "box_style": "",
            "children": [
              "IPY_MODEL_3557e5ea8cf547f598861af5fe015936",
              "IPY_MODEL_62180750d67e45f1a23efeca0daa30c8"
            ],
            "layout": "IPY_MODEL_a827614a5aae441a88853e4257cb206c"
          }
        },
        "3557e5ea8cf547f598861af5fe015936": {
          "model_module": "@jupyter-widgets/controls",
          "model_name": "LabelModel",
          "model_module_version": "1.5.0",
          "state": {
            "_dom_classes": [],
            "_model_module": "@jupyter-widgets/controls",
            "_model_module_version": "1.5.0",
            "_model_name": "LabelModel",
            "_view_count": null,
            "_view_module": "@jupyter-widgets/controls",
            "_view_module_version": "1.5.0",
            "_view_name": "LabelView",
            "description": "",
            "description_tooltip": null,
            "layout": "IPY_MODEL_65c6d258000444a691790159454390d8",
            "placeholder": "​",
            "style": "IPY_MODEL_1ecca91c0791440bab34e6d74283a567",
            "value": "0.976 MB of 0.976 MB uploaded\r"
          }
        },
        "62180750d67e45f1a23efeca0daa30c8": {
          "model_module": "@jupyter-widgets/controls",
          "model_name": "FloatProgressModel",
          "model_module_version": "1.5.0",
          "state": {
            "_dom_classes": [],
            "_model_module": "@jupyter-widgets/controls",
            "_model_module_version": "1.5.0",
            "_model_name": "FloatProgressModel",
            "_view_count": null,
            "_view_module": "@jupyter-widgets/controls",
            "_view_module_version": "1.5.0",
            "_view_name": "ProgressView",
            "bar_style": "",
            "description": "",
            "description_tooltip": null,
            "layout": "IPY_MODEL_7b6576c750a24a8a8a5d15b74afe40c4",
            "max": 1,
            "min": 0,
            "orientation": "horizontal",
            "style": "IPY_MODEL_6dcbc669ae8f48ac84b0782acdc7c41a",
            "value": 1
          }
        },
        "a827614a5aae441a88853e4257cb206c": {
          "model_module": "@jupyter-widgets/base",
          "model_name": "LayoutModel",
          "model_module_version": "1.2.0",
          "state": {
            "_model_module": "@jupyter-widgets/base",
            "_model_module_version": "1.2.0",
            "_model_name": "LayoutModel",
            "_view_count": null,
            "_view_module": "@jupyter-widgets/base",
            "_view_module_version": "1.2.0",
            "_view_name": "LayoutView",
            "align_content": null,
            "align_items": null,
            "align_self": null,
            "border": null,
            "bottom": null,
            "display": null,
            "flex": null,
            "flex_flow": null,
            "grid_area": null,
            "grid_auto_columns": null,
            "grid_auto_flow": null,
            "grid_auto_rows": null,
            "grid_column": null,
            "grid_gap": null,
            "grid_row": null,
            "grid_template_areas": null,
            "grid_template_columns": null,
            "grid_template_rows": null,
            "height": null,
            "justify_content": null,
            "justify_items": null,
            "left": null,
            "margin": null,
            "max_height": null,
            "max_width": null,
            "min_height": null,
            "min_width": null,
            "object_fit": null,
            "object_position": null,
            "order": null,
            "overflow": null,
            "overflow_x": null,
            "overflow_y": null,
            "padding": null,
            "right": null,
            "top": null,
            "visibility": null,
            "width": null
          }
        },
        "65c6d258000444a691790159454390d8": {
          "model_module": "@jupyter-widgets/base",
          "model_name": "LayoutModel",
          "model_module_version": "1.2.0",
          "state": {
            "_model_module": "@jupyter-widgets/base",
            "_model_module_version": "1.2.0",
            "_model_name": "LayoutModel",
            "_view_count": null,
            "_view_module": "@jupyter-widgets/base",
            "_view_module_version": "1.2.0",
            "_view_name": "LayoutView",
            "align_content": null,
            "align_items": null,
            "align_self": null,
            "border": null,
            "bottom": null,
            "display": null,
            "flex": null,
            "flex_flow": null,
            "grid_area": null,
            "grid_auto_columns": null,
            "grid_auto_flow": null,
            "grid_auto_rows": null,
            "grid_column": null,
            "grid_gap": null,
            "grid_row": null,
            "grid_template_areas": null,
            "grid_template_columns": null,
            "grid_template_rows": null,
            "height": null,
            "justify_content": null,
            "justify_items": null,
            "left": null,
            "margin": null,
            "max_height": null,
            "max_width": null,
            "min_height": null,
            "min_width": null,
            "object_fit": null,
            "object_position": null,
            "order": null,
            "overflow": null,
            "overflow_x": null,
            "overflow_y": null,
            "padding": null,
            "right": null,
            "top": null,
            "visibility": null,
            "width": null
          }
        },
        "1ecca91c0791440bab34e6d74283a567": {
          "model_module": "@jupyter-widgets/controls",
          "model_name": "DescriptionStyleModel",
          "model_module_version": "1.5.0",
          "state": {
            "_model_module": "@jupyter-widgets/controls",
            "_model_module_version": "1.5.0",
            "_model_name": "DescriptionStyleModel",
            "_view_count": null,
            "_view_module": "@jupyter-widgets/base",
            "_view_module_version": "1.2.0",
            "_view_name": "StyleView",
            "description_width": ""
          }
        },
        "7b6576c750a24a8a8a5d15b74afe40c4": {
          "model_module": "@jupyter-widgets/base",
          "model_name": "LayoutModel",
          "model_module_version": "1.2.0",
          "state": {
            "_model_module": "@jupyter-widgets/base",
            "_model_module_version": "1.2.0",
            "_model_name": "LayoutModel",
            "_view_count": null,
            "_view_module": "@jupyter-widgets/base",
            "_view_module_version": "1.2.0",
            "_view_name": "LayoutView",
            "align_content": null,
            "align_items": null,
            "align_self": null,
            "border": null,
            "bottom": null,
            "display": null,
            "flex": null,
            "flex_flow": null,
            "grid_area": null,
            "grid_auto_columns": null,
            "grid_auto_flow": null,
            "grid_auto_rows": null,
            "grid_column": null,
            "grid_gap": null,
            "grid_row": null,
            "grid_template_areas": null,
            "grid_template_columns": null,
            "grid_template_rows": null,
            "height": null,
            "justify_content": null,
            "justify_items": null,
            "left": null,
            "margin": null,
            "max_height": null,
            "max_width": null,
            "min_height": null,
            "min_width": null,
            "object_fit": null,
            "object_position": null,
            "order": null,
            "overflow": null,
            "overflow_x": null,
            "overflow_y": null,
            "padding": null,
            "right": null,
            "top": null,
            "visibility": null,
            "width": null
          }
        },
        "6dcbc669ae8f48ac84b0782acdc7c41a": {
          "model_module": "@jupyter-widgets/controls",
          "model_name": "ProgressStyleModel",
          "model_module_version": "1.5.0",
          "state": {
            "_model_module": "@jupyter-widgets/controls",
            "_model_module_version": "1.5.0",
            "_model_name": "ProgressStyleModel",
            "_view_count": null,
            "_view_module": "@jupyter-widgets/base",
            "_view_module_version": "1.2.0",
            "_view_name": "StyleView",
            "bar_color": null,
            "description_width": ""
          }
        }
      }
    },
    "accelerator": "GPU"
  },
  "nbformat": 4,
  "nbformat_minor": 5
}